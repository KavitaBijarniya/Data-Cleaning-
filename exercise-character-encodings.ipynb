{
 "cells": [
  {
   "cell_type": "markdown",
   "id": "b1c89ac6",
   "metadata": {
    "papermill": {
     "duration": 0.004916,
     "end_time": "2023-04-30T03:18:38.101218",
     "exception": false,
     "start_time": "2023-04-30T03:18:38.096302",
     "status": "completed"
    },
    "tags": []
   },
   "source": [
    "**This notebook is an exercise in the [Data Cleaning](https://www.kaggle.com/learn/data-cleaning) course.  You can reference the tutorial at [this link](https://www.kaggle.com/alexisbcook/character-encodings).**\n",
    "\n",
    "---\n"
   ]
  },
  {
   "cell_type": "markdown",
   "id": "aacd0d50",
   "metadata": {
    "papermill": {
     "duration": 0.003648,
     "end_time": "2023-04-30T03:18:38.108909",
     "exception": false,
     "start_time": "2023-04-30T03:18:38.105261",
     "status": "completed"
    },
    "tags": []
   },
   "source": [
    "In this exercise, you'll apply what you learned in the **Character encodings** tutorial.\n",
    "\n",
    "# Setup\n",
    "\n",
    "The questions below will give you feedback on your work. Run the following cell to set up the feedback system."
   ]
  },
  {
   "cell_type": "code",
   "execution_count": 1,
   "id": "d953e0d7",
   "metadata": {
    "execution": {
     "iopub.execute_input": "2023-04-30T03:18:38.118848Z",
     "iopub.status.busy": "2023-04-30T03:18:38.118417Z",
     "iopub.status.idle": "2023-04-30T03:18:38.197955Z",
     "shell.execute_reply": "2023-04-30T03:18:38.196285Z"
    },
    "papermill": {
     "duration": 0.087454,
     "end_time": "2023-04-30T03:18:38.200316",
     "exception": false,
     "start_time": "2023-04-30T03:18:38.112862",
     "status": "completed"
    },
    "tags": []
   },
   "outputs": [
    {
     "name": "stdout",
     "output_type": "stream",
     "text": [
      "Setup Complete\n"
     ]
    }
   ],
   "source": [
    "from learntools.core import binder\n",
    "binder.bind(globals())\n",
    "from learntools.data_cleaning.ex4 import *\n",
    "print(\"Setup Complete\")"
   ]
  },
  {
   "cell_type": "markdown",
   "id": "e38b0e60",
   "metadata": {
    "papermill": {
     "duration": 0.003869,
     "end_time": "2023-04-30T03:18:38.208378",
     "exception": false,
     "start_time": "2023-04-30T03:18:38.204509",
     "status": "completed"
    },
    "tags": []
   },
   "source": [
    "# Get our environment set up\n",
    "\n",
    "The first thing we'll need to do is load in the libraries we'll be using."
   ]
  },
  {
   "cell_type": "code",
   "execution_count": 2,
   "id": "900d7e25",
   "metadata": {
    "execution": {
     "iopub.execute_input": "2023-04-30T03:18:38.218252Z",
     "iopub.status.busy": "2023-04-30T03:18:38.217890Z",
     "iopub.status.idle": "2023-04-30T03:18:38.223119Z",
     "shell.execute_reply": "2023-04-30T03:18:38.221832Z"
    },
    "papermill": {
     "duration": 0.012751,
     "end_time": "2023-04-30T03:18:38.225236",
     "exception": false,
     "start_time": "2023-04-30T03:18:38.212485",
     "status": "completed"
    },
    "tags": []
   },
   "outputs": [],
   "source": [
    "# modules we'll use\n",
    "import pandas as pd\n",
    "import numpy as np\n",
    "\n",
    "# helpful character encoding module\n",
    "import charset_normalizer\n",
    "\n",
    "# set seed for reproducibility\n",
    "np.random.seed(0)"
   ]
  },
  {
   "cell_type": "markdown",
   "id": "bd7d198d",
   "metadata": {
    "papermill": {
     "duration": 0.003897,
     "end_time": "2023-04-30T03:18:38.233128",
     "exception": false,
     "start_time": "2023-04-30T03:18:38.229231",
     "status": "completed"
    },
    "tags": []
   },
   "source": [
    "# 1) What are encodings?\n",
    "\n",
    "You're working with a dataset composed of bytes.  Run the code cell below to print a sample entry."
   ]
  },
  {
   "cell_type": "code",
   "execution_count": 3,
   "id": "4a2a4122",
   "metadata": {
    "execution": {
     "iopub.execute_input": "2023-04-30T03:18:38.242811Z",
     "iopub.status.busy": "2023-04-30T03:18:38.242424Z",
     "iopub.status.idle": "2023-04-30T03:18:38.248854Z",
     "shell.execute_reply": "2023-04-30T03:18:38.246924Z"
    },
    "papermill": {
     "duration": 0.013617,
     "end_time": "2023-04-30T03:18:38.250657",
     "exception": false,
     "start_time": "2023-04-30T03:18:38.237040",
     "status": "completed"
    },
    "tags": []
   },
   "outputs": [
    {
     "name": "stdout",
     "output_type": "stream",
     "text": [
      "b'\\xa7A\\xa6n'\n",
      "data type: <class 'bytes'>\n"
     ]
    }
   ],
   "source": [
    "sample_entry = b'\\xa7A\\xa6n'\n",
    "print(sample_entry)\n",
    "print('data type:', type(sample_entry))"
   ]
  },
  {
   "cell_type": "markdown",
   "id": "7cf01bd5",
   "metadata": {
    "papermill": {
     "duration": 0.003936,
     "end_time": "2023-04-30T03:18:38.258826",
     "exception": false,
     "start_time": "2023-04-30T03:18:38.254890",
     "status": "completed"
    },
    "tags": []
   },
   "source": [
    "You notice that it doesn't use the standard UTF-8 encoding. \n",
    "\n",
    "Use the next code cell to create a variable `new_entry` that changes the encoding from `\"big5-tw\"` to `\"utf-8\"`.  `new_entry` should have the bytes datatype."
   ]
  },
  {
   "cell_type": "code",
   "execution_count": 4,
   "id": "4d88ea57",
   "metadata": {
    "execution": {
     "iopub.execute_input": "2023-04-30T03:18:38.268582Z",
     "iopub.status.busy": "2023-04-30T03:18:38.268249Z",
     "iopub.status.idle": "2023-04-30T03:18:38.278509Z",
     "shell.execute_reply": "2023-04-30T03:18:38.277278Z"
    },
    "papermill": {
     "duration": 0.017777,
     "end_time": "2023-04-30T03:18:38.280674",
     "exception": false,
     "start_time": "2023-04-30T03:18:38.262897",
     "status": "completed"
    },
    "tags": []
   },
   "outputs": [
    {
     "data": {
      "application/javascript": [
       "parent.postMessage({\"jupyterEvent\": \"custom.exercise_interaction\", \"data\": {\"outcomeType\": 1, \"valueTowardsCompletion\": 0.3333333333333333, \"interactionType\": 1, \"questionType\": 1, \"questionId\": \"1_EncodingsIntro\", \"learnToolsVersion\": \"0.3.4\", \"failureMessage\": \"\", \"exceptionClass\": \"\", \"trace\": \"\"}}, \"*\")"
      ],
      "text/plain": [
       "<IPython.core.display.Javascript object>"
      ]
     },
     "metadata": {},
     "output_type": "display_data"
    },
    {
     "data": {
      "text/markdown": [
       "<span style=\"color:#33cc33\">Correct</span>"
      ],
      "text/plain": [
       "Correct"
      ]
     },
     "metadata": {},
     "output_type": "display_data"
    }
   ],
   "source": [
    "before = sample_entry.decode(\"big5-tw\")\n",
    "new_entry = before.encode()\n",
    "\n",
    "# Check your answer\n",
    "q1.check()"
   ]
  },
  {
   "cell_type": "code",
   "execution_count": 5,
   "id": "9105e255",
   "metadata": {
    "execution": {
     "iopub.execute_input": "2023-04-30T03:18:38.291720Z",
     "iopub.status.busy": "2023-04-30T03:18:38.291338Z",
     "iopub.status.idle": "2023-04-30T03:18:38.296251Z",
     "shell.execute_reply": "2023-04-30T03:18:38.294941Z"
    },
    "papermill": {
     "duration": 0.013253,
     "end_time": "2023-04-30T03:18:38.298547",
     "exception": false,
     "start_time": "2023-04-30T03:18:38.285294",
     "status": "completed"
    },
    "tags": []
   },
   "outputs": [],
   "source": [
    "# Lines below will give you a hint or solution code\n",
    "#q1.hint()\n",
    "#q1.solution()"
   ]
  },
  {
   "cell_type": "markdown",
   "id": "0da2bb5c",
   "metadata": {
    "papermill": {
     "duration": 0.004186,
     "end_time": "2023-04-30T03:18:38.307171",
     "exception": false,
     "start_time": "2023-04-30T03:18:38.302985",
     "status": "completed"
    },
    "tags": []
   },
   "source": [
    "# 2) Reading in files with encoding problems\n",
    "\n",
    "Use the code cell below to read in this file at path `\"../input/fatal-police-shootings-in-the-us/PoliceKillingsUS.csv\"`.  \n",
    "\n",
    "Figure out what the correct encoding should be and read in the file to a DataFrame `police_killings`."
   ]
  },
  {
   "cell_type": "code",
   "execution_count": 6,
   "id": "f6859eb5",
   "metadata": {
    "execution": {
     "iopub.execute_input": "2023-04-30T03:18:38.317397Z",
     "iopub.status.busy": "2023-04-30T03:18:38.317060Z",
     "iopub.status.idle": "2023-04-30T03:18:38.338063Z",
     "shell.execute_reply": "2023-04-30T03:18:38.337046Z"
    },
    "papermill": {
     "duration": 0.028773,
     "end_time": "2023-04-30T03:18:38.340259",
     "exception": false,
     "start_time": "2023-04-30T03:18:38.311486",
     "status": "completed"
    },
    "tags": []
   },
   "outputs": [
    {
     "data": {
      "application/javascript": [
       "parent.postMessage({\"jupyterEvent\": \"custom.exercise_interaction\", \"data\": {\"outcomeType\": 1, \"valueTowardsCompletion\": 0.3333333333333333, \"interactionType\": 1, \"questionType\": 1, \"questionId\": \"2_ReadIn\", \"learnToolsVersion\": \"0.3.4\", \"failureMessage\": \"\", \"exceptionClass\": \"\", \"trace\": \"\"}}, \"*\")"
      ],
      "text/plain": [
       "<IPython.core.display.Javascript object>"
      ]
     },
     "metadata": {},
     "output_type": "display_data"
    },
    {
     "data": {
      "text/markdown": [
       "<span style=\"color:#33cc33\">Correct</span>"
      ],
      "text/plain": [
       "Correct"
      ]
     },
     "metadata": {},
     "output_type": "display_data"
    }
   ],
   "source": [
    "# TODO: Load in the DataFrame correctly.\n",
    "police_killings = police_killings = pd.read_csv(\"../input/fatal-police-shootings-in-the-us/PoliceKillingsUS.csv\", encoding='Windows-1252')\n",
    "\n",
    "# Check your answer\n",
    "q2.check()"
   ]
  },
  {
   "cell_type": "markdown",
   "id": "3c36b027",
   "metadata": {
    "papermill": {
     "duration": 0.004485,
     "end_time": "2023-04-30T03:18:38.349720",
     "exception": false,
     "start_time": "2023-04-30T03:18:38.345235",
     "status": "completed"
    },
    "tags": []
   },
   "source": [
    "Feel free to use any additional code cells for supplemental work.  To get credit for finishing this question, you'll need to run `q2.check()` and get a result of **Correct**."
   ]
  },
  {
   "cell_type": "code",
   "execution_count": 7,
   "id": "d10d85f1",
   "metadata": {
    "execution": {
     "iopub.execute_input": "2023-04-30T03:18:38.361844Z",
     "iopub.status.busy": "2023-04-30T03:18:38.361451Z",
     "iopub.status.idle": "2023-04-30T03:18:38.366006Z",
     "shell.execute_reply": "2023-04-30T03:18:38.365062Z"
    },
    "papermill": {
     "duration": 0.013869,
     "end_time": "2023-04-30T03:18:38.368329",
     "exception": false,
     "start_time": "2023-04-30T03:18:38.354460",
     "status": "completed"
    },
    "tags": []
   },
   "outputs": [],
   "source": [
    "# (Optional) Use this code cell for any additional work."
   ]
  },
  {
   "cell_type": "code",
   "execution_count": 8,
   "id": "e358c7a2",
   "metadata": {
    "execution": {
     "iopub.execute_input": "2023-04-30T03:18:38.380037Z",
     "iopub.status.busy": "2023-04-30T03:18:38.379615Z",
     "iopub.status.idle": "2023-04-30T03:18:38.383230Z",
     "shell.execute_reply": "2023-04-30T03:18:38.382549Z"
    },
    "papermill": {
     "duration": 0.012544,
     "end_time": "2023-04-30T03:18:38.385832",
     "exception": false,
     "start_time": "2023-04-30T03:18:38.373288",
     "status": "completed"
    },
    "tags": []
   },
   "outputs": [],
   "source": [
    "# Lines below will give you a hint or solution code\n",
    "#q2.hint()\n",
    "#q2.solution()"
   ]
  },
  {
   "cell_type": "markdown",
   "id": "47685159",
   "metadata": {
    "papermill": {
     "duration": 0.004315,
     "end_time": "2023-04-30T03:18:38.394954",
     "exception": false,
     "start_time": "2023-04-30T03:18:38.390639",
     "status": "completed"
    },
    "tags": []
   },
   "source": [
    "# 3) Saving your files with UTF-8 encoding\n",
    "\n",
    "Save a version of the police killings dataset to CSV with UTF-8 encoding.  Your answer will be marked correct after saving this file.  \n",
    "\n",
    "Note: When using the `to_csv()` method, supply only the name of the file (e.g., `\"my_file.csv\"`).  This saves the file at the filepath `\"/kaggle/working/my_file.csv\"`."
   ]
  },
  {
   "cell_type": "code",
   "execution_count": 9,
   "id": "21d6444d",
   "metadata": {
    "execution": {
     "iopub.execute_input": "2023-04-30T03:18:38.405542Z",
     "iopub.status.busy": "2023-04-30T03:18:38.405228Z",
     "iopub.status.idle": "2023-04-30T03:18:38.436304Z",
     "shell.execute_reply": "2023-04-30T03:18:38.435074Z"
    },
    "papermill": {
     "duration": 0.038955,
     "end_time": "2023-04-30T03:18:38.438326",
     "exception": false,
     "start_time": "2023-04-30T03:18:38.399371",
     "status": "completed"
    },
    "tags": []
   },
   "outputs": [
    {
     "data": {
      "application/javascript": [
       "parent.postMessage({\"jupyterEvent\": \"custom.exercise_interaction\", \"data\": {\"outcomeType\": 1, \"valueTowardsCompletion\": 0.3333333333333333, \"interactionType\": 1, \"questionType\": 2, \"questionId\": \"3_SaveCSV\", \"learnToolsVersion\": \"0.3.4\", \"failureMessage\": \"\", \"exceptionClass\": \"\", \"trace\": \"\"}}, \"*\")"
      ],
      "text/plain": [
       "<IPython.core.display.Javascript object>"
      ]
     },
     "metadata": {},
     "output_type": "display_data"
    },
    {
     "data": {
      "text/markdown": [
       "<span style=\"color:#33cc33\">Correct</span>"
      ],
      "text/plain": [
       "Correct"
      ]
     },
     "metadata": {},
     "output_type": "display_data"
    }
   ],
   "source": [
    "# TODO: Save the police killings dataset to CSV\n",
    "police_killings.to_csv(\"my_file.csv\")\n",
    "\n",
    "# Check your answer\n",
    "q3.check()"
   ]
  },
  {
   "cell_type": "code",
   "execution_count": 10,
   "id": "c667f839",
   "metadata": {
    "execution": {
     "iopub.execute_input": "2023-04-30T03:18:38.449928Z",
     "iopub.status.busy": "2023-04-30T03:18:38.449611Z",
     "iopub.status.idle": "2023-04-30T03:18:38.453682Z",
     "shell.execute_reply": "2023-04-30T03:18:38.452590Z"
    },
    "papermill": {
     "duration": 0.012112,
     "end_time": "2023-04-30T03:18:38.455539",
     "exception": false,
     "start_time": "2023-04-30T03:18:38.443427",
     "status": "completed"
    },
    "tags": []
   },
   "outputs": [],
   "source": [
    "# Lines below will give you a hint or solution code\n",
    "#q3.hint()\n",
    "#q3.solution()"
   ]
  },
  {
   "cell_type": "markdown",
   "id": "170f4cc6",
   "metadata": {
    "papermill": {
     "duration": 0.004507,
     "end_time": "2023-04-30T03:18:38.464819",
     "exception": false,
     "start_time": "2023-04-30T03:18:38.460312",
     "status": "completed"
    },
    "tags": []
   },
   "source": [
    "# (Optional) More practice\n",
    "\n",
    "Check out [this dataset of files in different character encodings](https://www.kaggle.com/rtatman/character-encoding-examples). Can you read in all the files with their original encodings and them save them out as UTF-8 files?\n",
    "\n",
    "If you have a file that's in UTF-8 but has just a couple of weird-looking characters in it, you can try out the [ftfy module](https://ftfy.readthedocs.io/en/latest/#) and see if it helps. \n",
    "\n",
    "# Keep going\n",
    "\n",
    "In the final lesson, learn how to [**clean up inconsistent text entries**](https://www.kaggle.com/alexisbcook/inconsistent-data-entry) in your dataset."
   ]
  },
  {
   "cell_type": "markdown",
   "id": "b1e6edee",
   "metadata": {
    "papermill": {
     "duration": 0.00459,
     "end_time": "2023-04-30T03:18:38.474057",
     "exception": false,
     "start_time": "2023-04-30T03:18:38.469467",
     "status": "completed"
    },
    "tags": []
   },
   "source": [
    "---\n",
    "\n",
    "\n",
    "\n",
    "\n",
    "*Have questions or comments? Visit the [course discussion forum](https://www.kaggle.com/learn/data-cleaning/discussion) to chat with other learners.*"
   ]
  }
 ],
 "metadata": {
  "kernelspec": {
   "display_name": "Python 3",
   "language": "python",
   "name": "python3"
  },
  "language_info": {
   "codemirror_mode": {
    "name": "ipython",
    "version": 3
   },
   "file_extension": ".py",
   "mimetype": "text/x-python",
   "name": "python",
   "nbconvert_exporter": "python",
   "pygments_lexer": "ipython3",
   "version": "3.7.12"
  },
  "papermill": {
   "default_parameters": {},
   "duration": 9.598032,
   "end_time": "2023-04-30T03:18:39.100214",
   "environment_variables": {},
   "exception": null,
   "input_path": "__notebook__.ipynb",
   "output_path": "__notebook__.ipynb",
   "parameters": {},
   "start_time": "2023-04-30T03:18:29.502182",
   "version": "2.4.0"
  }
 },
 "nbformat": 4,
 "nbformat_minor": 5
}
