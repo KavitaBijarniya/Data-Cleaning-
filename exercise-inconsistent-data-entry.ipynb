{
 "cells": [
  {
   "cell_type": "markdown",
   "id": "261c8794",
   "metadata": {
    "papermill": {
     "duration": 0.006441,
     "end_time": "2023-04-30T03:19:52.787822",
     "exception": false,
     "start_time": "2023-04-30T03:19:52.781381",
     "status": "completed"
    },
    "tags": []
   },
   "source": [
    "**This notebook is an exercise in the [Data Cleaning](https://www.kaggle.com/learn/data-cleaning) course.  You can reference the tutorial at [this link](https://www.kaggle.com/alexisbcook/inconsistent-data-entry).**\n",
    "\n",
    "---\n"
   ]
  },
  {
   "cell_type": "markdown",
   "id": "9da3ae0a",
   "metadata": {
    "papermill": {
     "duration": 0.004871,
     "end_time": "2023-04-30T03:19:52.798045",
     "exception": false,
     "start_time": "2023-04-30T03:19:52.793174",
     "status": "completed"
    },
    "tags": []
   },
   "source": [
    "In this exercise, you'll apply what you learned in the **Inconsistent data entry** tutorial.\n",
    "\n",
    "# Setup\n",
    "\n",
    "The questions below will give you feedback on your work. Run the following cell to set up the feedback system."
   ]
  },
  {
   "cell_type": "code",
   "execution_count": 1,
   "id": "f5a90b77",
   "metadata": {
    "execution": {
     "iopub.execute_input": "2023-04-30T03:19:52.811066Z",
     "iopub.status.busy": "2023-04-30T03:19:52.810296Z",
     "iopub.status.idle": "2023-04-30T03:19:53.020575Z",
     "shell.execute_reply": "2023-04-30T03:19:53.019277Z"
    },
    "papermill": {
     "duration": 0.220683,
     "end_time": "2023-04-30T03:19:53.023986",
     "exception": false,
     "start_time": "2023-04-30T03:19:52.803303",
     "status": "completed"
    },
    "tags": []
   },
   "outputs": [
    {
     "name": "stdout",
     "output_type": "stream",
     "text": [
      "Setup Complete\n"
     ]
    }
   ],
   "source": [
    "from learntools.core import binder\n",
    "binder.bind(globals())\n",
    "from learntools.data_cleaning.ex5 import *\n",
    "print(\"Setup Complete\")"
   ]
  },
  {
   "cell_type": "markdown",
   "id": "4721423b",
   "metadata": {
    "papermill": {
     "duration": 0.005625,
     "end_time": "2023-04-30T03:19:53.035342",
     "exception": false,
     "start_time": "2023-04-30T03:19:53.029717",
     "status": "completed"
    },
    "tags": []
   },
   "source": [
    "# Get our environment set up\n",
    "\n",
    "The first thing we'll need to do is load in the libraries and dataset we'll be using.  We use the same dataset from the tutorial."
   ]
  },
  {
   "cell_type": "code",
   "execution_count": 2,
   "id": "86dc3d33",
   "metadata": {
    "execution": {
     "iopub.execute_input": "2023-04-30T03:19:53.048164Z",
     "iopub.status.busy": "2023-04-30T03:19:53.047765Z",
     "iopub.status.idle": "2023-04-30T03:19:53.066088Z",
     "shell.execute_reply": "2023-04-30T03:19:53.064741Z"
    },
    "papermill": {
     "duration": 0.028519,
     "end_time": "2023-04-30T03:19:53.069288",
     "exception": false,
     "start_time": "2023-04-30T03:19:53.040769",
     "status": "completed"
    },
    "tags": []
   },
   "outputs": [],
   "source": [
    "# modules we'll use\n",
    "import pandas as pd\n",
    "import numpy as np\n",
    "\n",
    "# helpful modules\n",
    "import fuzzywuzzy\n",
    "from fuzzywuzzy import process\n",
    "import charset_normalizer\n",
    "\n",
    "# read in all our data\n",
    "professors = pd.read_csv(\"../input/pakistan-intellectual-capital/pakistan_intellectual_capital.csv\")\n",
    "\n",
    "# set seed for reproducibility\n",
    "np.random.seed(0)"
   ]
  },
  {
   "cell_type": "markdown",
   "id": "733ff1c2",
   "metadata": {
    "papermill": {
     "duration": 0.005736,
     "end_time": "2023-04-30T03:19:53.080926",
     "exception": false,
     "start_time": "2023-04-30T03:19:53.075190",
     "status": "completed"
    },
    "tags": []
   },
   "source": [
    "Next, we'll redo all of the work that we did in the tutorial."
   ]
  },
  {
   "cell_type": "code",
   "execution_count": 3,
   "id": "41e9ca59",
   "metadata": {
    "execution": {
     "iopub.execute_input": "2023-04-30T03:19:53.093548Z",
     "iopub.status.busy": "2023-04-30T03:19:53.093118Z",
     "iopub.status.idle": "2023-04-30T03:19:53.109421Z",
     "shell.execute_reply": "2023-04-30T03:19:53.107924Z"
    },
    "papermill": {
     "duration": 0.025944,
     "end_time": "2023-04-30T03:19:53.112278",
     "exception": false,
     "start_time": "2023-04-30T03:19:53.086334",
     "status": "completed"
    },
    "tags": []
   },
   "outputs": [
    {
     "name": "stdout",
     "output_type": "stream",
     "text": [
      "All done!\n"
     ]
    }
   ],
   "source": [
    "# convert to lower case\n",
    "professors['Country'] = professors['Country'].str.lower()\n",
    "# remove trailing white spaces\n",
    "professors['Country'] = professors['Country'].str.strip()\n",
    "\n",
    "# get the top 10 closest matches to \"south korea\"\n",
    "countries = professors['Country'].unique()\n",
    "matches = fuzzywuzzy.process.extract(\"south korea\", countries, limit=10, scorer=fuzzywuzzy.fuzz.token_sort_ratio)\n",
    "\n",
    "def replace_matches_in_column(df, column, string_to_match, min_ratio = 47):\n",
    "    # get a list of unique strings\n",
    "    strings = df[column].unique()\n",
    "    \n",
    "    # get the top 10 closest matches to our input string\n",
    "    matches = fuzzywuzzy.process.extract(string_to_match, strings, \n",
    "                                         limit=10, scorer=fuzzywuzzy.fuzz.token_sort_ratio)\n",
    "\n",
    "    # only get matches with a ratio > 90\n",
    "    close_matches = [matches[0] for matches in matches if matches[1] >= min_ratio]\n",
    "\n",
    "    # get the rows of all the close matches in our dataframe\n",
    "    rows_with_matches = df[column].isin(close_matches)\n",
    "\n",
    "    # replace all rows with close matches with the input matches \n",
    "    df.loc[rows_with_matches, column] = string_to_match\n",
    "    \n",
    "    # let us know the function's done\n",
    "    print(\"All done!\")\n",
    "    \n",
    "replace_matches_in_column(df=professors, column='Country', string_to_match=\"south korea\")\n",
    "countries = professors['Country'].unique()"
   ]
  },
  {
   "cell_type": "markdown",
   "id": "a7fa4f5e",
   "metadata": {
    "papermill": {
     "duration": 0.006154,
     "end_time": "2023-04-30T03:19:53.123796",
     "exception": false,
     "start_time": "2023-04-30T03:19:53.117642",
     "status": "completed"
    },
    "tags": []
   },
   "source": [
    "# 1) Examine another column\n",
    "\n",
    "Write code below to take a look at all the unique values in the \"Graduated from\" column."
   ]
  },
  {
   "cell_type": "code",
   "execution_count": 4,
   "id": "43723309",
   "metadata": {
    "execution": {
     "iopub.execute_input": "2023-04-30T03:19:53.136744Z",
     "iopub.status.busy": "2023-04-30T03:19:53.136300Z",
     "iopub.status.idle": "2023-04-30T03:19:53.141574Z",
     "shell.execute_reply": "2023-04-30T03:19:53.140562Z"
    },
    "papermill": {
     "duration": 0.014923,
     "end_time": "2023-04-30T03:19:53.144073",
     "exception": false,
     "start_time": "2023-04-30T03:19:53.129150",
     "status": "completed"
    },
    "tags": []
   },
   "outputs": [],
   "source": [
    "# TODO: Your code here\n",
    "unis = professors['Graduated from'].unique() "
   ]
  },
  {
   "cell_type": "markdown",
   "id": "5265cf09",
   "metadata": {
    "papermill": {
     "duration": 0.005125,
     "end_time": "2023-04-30T03:19:53.154626",
     "exception": false,
     "start_time": "2023-04-30T03:19:53.149501",
     "status": "completed"
    },
    "tags": []
   },
   "source": [
    "Do you notice any inconsistencies in the data?  Can any of the inconsistencies in the data be fixed by removing white spaces at the beginning and end of cells?\n",
    "\n",
    "Once you have answered these questions, run the code cell below to get credit for your work."
   ]
  },
  {
   "cell_type": "code",
   "execution_count": 5,
   "id": "b720d7b0",
   "metadata": {
    "execution": {
     "iopub.execute_input": "2023-04-30T03:19:53.168527Z",
     "iopub.status.busy": "2023-04-30T03:19:53.167200Z",
     "iopub.status.idle": "2023-04-30T03:19:53.178630Z",
     "shell.execute_reply": "2023-04-30T03:19:53.177709Z"
    },
    "papermill": {
     "duration": 0.020875,
     "end_time": "2023-04-30T03:19:53.181217",
     "exception": false,
     "start_time": "2023-04-30T03:19:53.160342",
     "status": "completed"
    },
    "tags": []
   },
   "outputs": [
    {
     "data": {
      "application/javascript": [
       "parent.postMessage({\"jupyterEvent\": \"custom.exercise_interaction\", \"data\": {\"outcomeType\": 1, \"valueTowardsCompletion\": 0.3333333333333333, \"interactionType\": 1, \"questionType\": 4, \"questionId\": \"1_ExamineProvince\", \"learnToolsVersion\": \"0.3.4\", \"failureMessage\": \"\", \"exceptionClass\": \"\", \"trace\": \"\"}}, \"*\")"
      ],
      "text/plain": [
       "<IPython.core.display.Javascript object>"
      ]
     },
     "metadata": {},
     "output_type": "display_data"
    },
    {
     "data": {
      "text/markdown": [
       "<span style=\"color:#33cc33\">Correct:</span> \n",
       "\n",
       "There are inconsistencies that can be fixed by removing white spaces at the beginning and end of cells.  For instance, \"University of Central Florida\" and \" University of Central Florida\" both appear in the column."
      ],
      "text/plain": [
       "Correct: \n",
       "\n",
       "There are inconsistencies that can be fixed by removing white spaces at the beginning and end of cells.  For instance, \"University of Central Florida\" and \" University of Central Florida\" both appear in the column."
      ]
     },
     "metadata": {},
     "output_type": "display_data"
    }
   ],
   "source": [
    "# Check your answer (Run this code cell to receive credit!)\n",
    "q1.check()"
   ]
  },
  {
   "cell_type": "code",
   "execution_count": 6,
   "id": "262046d6",
   "metadata": {
    "execution": {
     "iopub.execute_input": "2023-04-30T03:19:53.195553Z",
     "iopub.status.busy": "2023-04-30T03:19:53.194890Z",
     "iopub.status.idle": "2023-04-30T03:19:53.198814Z",
     "shell.execute_reply": "2023-04-30T03:19:53.197864Z"
    },
    "papermill": {
     "duration": 0.013931,
     "end_time": "2023-04-30T03:19:53.201359",
     "exception": false,
     "start_time": "2023-04-30T03:19:53.187428",
     "status": "completed"
    },
    "tags": []
   },
   "outputs": [],
   "source": [
    "# Line below will give you a hint\n",
    "#q1.hint()"
   ]
  },
  {
   "cell_type": "markdown",
   "id": "848a18d7",
   "metadata": {
    "papermill": {
     "duration": 0.005369,
     "end_time": "2023-04-30T03:19:53.212491",
     "exception": false,
     "start_time": "2023-04-30T03:19:53.207122",
     "status": "completed"
    },
    "tags": []
   },
   "source": [
    "# 2) Do some text pre-processing\n",
    "\n",
    "Convert every entry in the \"Graduated from\" column in the `professors` DataFrame to remove white spaces at the beginning and end of cells."
   ]
  },
  {
   "cell_type": "code",
   "execution_count": 7,
   "id": "0fb3ff7d",
   "metadata": {
    "execution": {
     "iopub.execute_input": "2023-04-30T03:19:53.227424Z",
     "iopub.status.busy": "2023-04-30T03:19:53.226768Z",
     "iopub.status.idle": "2023-04-30T03:19:53.241478Z",
     "shell.execute_reply": "2023-04-30T03:19:53.240088Z"
    },
    "papermill": {
     "duration": 0.026385,
     "end_time": "2023-04-30T03:19:53.244551",
     "exception": false,
     "start_time": "2023-04-30T03:19:53.218166",
     "status": "completed"
    },
    "tags": []
   },
   "outputs": [
    {
     "data": {
      "application/javascript": [
       "parent.postMessage({\"jupyterEvent\": \"custom.exercise_interaction\", \"data\": {\"outcomeType\": 1, \"valueTowardsCompletion\": 0.3333333333333333, \"interactionType\": 1, \"questionType\": 1, \"questionId\": \"2_TextProcessing\", \"learnToolsVersion\": \"0.3.4\", \"failureMessage\": \"\", \"exceptionClass\": \"\", \"trace\": \"\"}}, \"*\")"
      ],
      "text/plain": [
       "<IPython.core.display.Javascript object>"
      ]
     },
     "metadata": {},
     "output_type": "display_data"
    },
    {
     "data": {
      "text/markdown": [
       "<span style=\"color:#33cc33\">Correct</span>"
      ],
      "text/plain": [
       "Correct"
      ]
     },
     "metadata": {},
     "output_type": "display_data"
    }
   ],
   "source": [
    "# TODO: Your code here\n",
    "professors['Graduated from'] = professors['Graduated from'].str.strip()\n",
    "\n",
    "# Check your answer\n",
    "q2.check()"
   ]
  },
  {
   "cell_type": "code",
   "execution_count": 8,
   "id": "3f01aedd",
   "metadata": {
    "execution": {
     "iopub.execute_input": "2023-04-30T03:19:53.259931Z",
     "iopub.status.busy": "2023-04-30T03:19:53.258398Z",
     "iopub.status.idle": "2023-04-30T03:19:53.264318Z",
     "shell.execute_reply": "2023-04-30T03:19:53.262990Z"
    },
    "papermill": {
     "duration": 0.016434,
     "end_time": "2023-04-30T03:19:53.267121",
     "exception": false,
     "start_time": "2023-04-30T03:19:53.250687",
     "status": "completed"
    },
    "tags": []
   },
   "outputs": [],
   "source": [
    "# Lines below will give you a hint or solution code\n",
    "#q2.hint()\n",
    "#q2.solution()"
   ]
  },
  {
   "cell_type": "markdown",
   "id": "7f55e332",
   "metadata": {
    "papermill": {
     "duration": 0.005702,
     "end_time": "2023-04-30T03:19:53.279192",
     "exception": false,
     "start_time": "2023-04-30T03:19:53.273490",
     "status": "completed"
    },
    "tags": []
   },
   "source": [
    "# 3) Continue working with countries\n",
    "\n",
    "In the tutorial, we focused on cleaning up inconsistencies in the \"Country\" column.  Run the code cell below to view the list of unique values that we ended with."
   ]
  },
  {
   "cell_type": "code",
   "execution_count": 9,
   "id": "e2d3b6c4",
   "metadata": {
    "execution": {
     "iopub.execute_input": "2023-04-30T03:19:53.295602Z",
     "iopub.status.busy": "2023-04-30T03:19:53.295110Z",
     "iopub.status.idle": "2023-04-30T03:19:53.304137Z",
     "shell.execute_reply": "2023-04-30T03:19:53.303238Z"
    },
    "papermill": {
     "duration": 0.019681,
     "end_time": "2023-04-30T03:19:53.306397",
     "exception": false,
     "start_time": "2023-04-30T03:19:53.286716",
     "status": "completed"
    },
    "tags": []
   },
   "outputs": [
    {
     "data": {
      "text/plain": [
       "array(['australia', 'austria', 'canada', 'china', 'finland', 'france',\n",
       "       'germany', 'greece', 'hongkong', 'ireland', 'italy', 'japan',\n",
       "       'macau', 'malaysia', 'mauritius', 'netherland', 'new zealand',\n",
       "       'norway', 'pakistan', 'portugal', 'russian federation',\n",
       "       'saudi arabia', 'scotland', 'singapore', 'south korea', 'spain',\n",
       "       'sweden', 'thailand', 'turkey', 'uk', 'urbana', 'usa', 'usofa'],\n",
       "      dtype=object)"
      ]
     },
     "execution_count": 9,
     "metadata": {},
     "output_type": "execute_result"
    }
   ],
   "source": [
    "# get all the unique values in the 'City' column\n",
    "countries = professors['Country'].unique()\n",
    "\n",
    "# sort them alphabetically and then take a closer look\n",
    "countries.sort()\n",
    "countries"
   ]
  },
  {
   "cell_type": "markdown",
   "id": "84f0249a",
   "metadata": {
    "papermill": {
     "duration": 0.005715,
     "end_time": "2023-04-30T03:19:53.318536",
     "exception": false,
     "start_time": "2023-04-30T03:19:53.312821",
     "status": "completed"
    },
    "tags": []
   },
   "source": [
    "Take another look at the \"Country\" column and see if there's any more data cleaning we need to do.\n",
    "\n",
    "It looks like 'usa' and 'usofa' should be the same country.  Correct the \"Country\" column in the dataframe to replace 'usofa' with 'usa'.\n",
    "\n",
    "**Use the most recent version of the DataFrame (with the whitespaces at the beginning and end of cells removed) from question 2.**"
   ]
  },
  {
   "cell_type": "code",
   "execution_count": 10,
   "id": "ef36ac90",
   "metadata": {
    "execution": {
     "iopub.execute_input": "2023-04-30T03:19:53.333472Z",
     "iopub.status.busy": "2023-04-30T03:19:53.332168Z",
     "iopub.status.idle": "2023-04-30T03:19:53.348601Z",
     "shell.execute_reply": "2023-04-30T03:19:53.347389Z"
    },
    "papermill": {
     "duration": 0.026739,
     "end_time": "2023-04-30T03:19:53.351257",
     "exception": false,
     "start_time": "2023-04-30T03:19:53.324518",
     "status": "completed"
    },
    "tags": []
   },
   "outputs": [
    {
     "name": "stdout",
     "output_type": "stream",
     "text": [
      "All done!\n"
     ]
    },
    {
     "data": {
      "application/javascript": [
       "parent.postMessage({\"jupyterEvent\": \"custom.exercise_interaction\", \"data\": {\"outcomeType\": 1, \"valueTowardsCompletion\": 0.3333333333333333, \"interactionType\": 1, \"questionType\": 1, \"questionId\": \"3_WorkingWithCities\", \"learnToolsVersion\": \"0.3.4\", \"failureMessage\": \"\", \"exceptionClass\": \"\", \"trace\": \"\"}}, \"*\")"
      ],
      "text/plain": [
       "<IPython.core.display.Javascript object>"
      ]
     },
     "metadata": {},
     "output_type": "display_data"
    },
    {
     "data": {
      "text/markdown": [
       "<span style=\"color:#33cc33\">Correct</span>"
      ],
      "text/plain": [
       "Correct"
      ]
     },
     "metadata": {},
     "output_type": "display_data"
    }
   ],
   "source": [
    "# TODO: Your code here!\n",
    "matches = fuzzywuzzy.process.extract(\"usa\", countries, limit=10, scorer=fuzzywuzzy.fuzz.token_sort_ratio)\n",
    "replace_matches_in_column(df=professors, column='Country', string_to_match=\"usa\", min_ratio=70)\n",
    "# Check your answer\n",
    "q3.check()"
   ]
  },
  {
   "cell_type": "code",
   "execution_count": 11,
   "id": "1e52a8bb",
   "metadata": {
    "execution": {
     "iopub.execute_input": "2023-04-30T03:19:53.365895Z",
     "iopub.status.busy": "2023-04-30T03:19:53.365442Z",
     "iopub.status.idle": "2023-04-30T03:19:53.370850Z",
     "shell.execute_reply": "2023-04-30T03:19:53.369375Z"
    },
    "papermill": {
     "duration": 0.015745,
     "end_time": "2023-04-30T03:19:53.373426",
     "exception": false,
     "start_time": "2023-04-30T03:19:53.357681",
     "status": "completed"
    },
    "tags": []
   },
   "outputs": [],
   "source": [
    "# Lines below will give you a hint or solution code\n",
    "#q3.hint()\n",
    "#q3.solution()"
   ]
  },
  {
   "cell_type": "markdown",
   "id": "ebc111bf",
   "metadata": {
    "papermill": {
     "duration": 0.006314,
     "end_time": "2023-04-30T03:19:53.386414",
     "exception": false,
     "start_time": "2023-04-30T03:19:53.380100",
     "status": "completed"
    },
    "tags": []
   },
   "source": [
    "# Congratulations!\n",
    "\n",
    "Congratulations for completing the **Data Cleaning** course on Kaggle Learn!\n",
    "\n",
    "To practice your new skills, you're encouraged to download and investigate some of [Kaggle's Datasets](https://www.kaggle.com/datasets)."
   ]
  },
  {
   "cell_type": "markdown",
   "id": "82e4b8e8",
   "metadata": {
    "papermill": {
     "duration": 0.005973,
     "end_time": "2023-04-30T03:19:53.398843",
     "exception": false,
     "start_time": "2023-04-30T03:19:53.392870",
     "status": "completed"
    },
    "tags": []
   },
   "source": [
    "---\n",
    "\n",
    "\n",
    "\n",
    "\n",
    "*Have questions or comments? Visit the [course discussion forum](https://www.kaggle.com/learn/data-cleaning/discussion) to chat with other learners.*"
   ]
  }
 ],
 "metadata": {
  "kernelspec": {
   "display_name": "Python 3",
   "language": "python",
   "name": "python3"
  },
  "language_info": {
   "codemirror_mode": {
    "name": "ipython",
    "version": 3
   },
   "file_extension": ".py",
   "mimetype": "text/x-python",
   "name": "python",
   "nbconvert_exporter": "python",
   "pygments_lexer": "ipython3",
   "version": "3.7.12"
  },
  "papermill": {
   "default_parameters": {},
   "duration": 12.463863,
   "end_time": "2023-04-30T03:19:54.128973",
   "environment_variables": {},
   "exception": null,
   "input_path": "__notebook__.ipynb",
   "output_path": "__notebook__.ipynb",
   "parameters": {},
   "start_time": "2023-04-30T03:19:41.665110",
   "version": "2.4.0"
  }
 },
 "nbformat": 4,
 "nbformat_minor": 5
}
